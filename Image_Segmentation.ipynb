{
 "metadata": {
  "language_info": {
   "codemirror_mode": {
    "name": "ipython",
    "version": 3
   },
   "file_extension": ".py",
   "mimetype": "text/x-python",
   "name": "python",
   "nbconvert_exporter": "python",
   "pygments_lexer": "ipython3",
   "version": 3
  },
  "orig_nbformat": 2
 },
 "nbformat": 4,
 "nbformat_minor": 2,
 "cells": [
  {
   "cell_type": "code",
   "execution_count": null,
   "metadata": {},
   "outputs": [],
   "source": [
    "import numpy as np\n",
    "import matplotlib.pyplot as plt\n",
    "from sklearn.cluster import KMeans\n",
    "from matplotlib.image import imread\n",
    "from os.path import splitext\n",
    "\n",
    "\n",
    "import matplotlib.pyplot as plt"
   ]
  },
  {
   "cell_type": "code",
   "execution_count": null,
   "metadata": {},
   "outputs": [],
   "source": [
    "def segement_image_with_kmeans(img, num_colors):\n",
    "    X = img.reshape((-1, 3))\n",
    "\n",
    "    kmeans = KMeans(num_colors, random_state=42).fit(X)\n",
    "    labels = kmeans.labels_\n",
    "    centers = kmeans.cluster_centers_\n",
    "\n",
    "    segmented_img = centers[labels.flatten()]\n",
    "    segmented_img = segmented_img.reshape((img.shape))\n",
    "    return segmented_img"
   ]
  },
  {
   "cell_type": "code",
   "execution_count": null,
   "metadata": {},
   "outputs": [],
   "source": [
    "def plot_segmented_images(original_img):\n",
    "    num_colors = [10, 8, 6, 4, 2]\n",
    "    name, _ = splitext(original_img)\n",
    "    img = imread(original_img)\n",
    "    for n_color in num_colors:\n",
    "        res = segement_image_with_kmeans(img, n_color)\n",
    "        figure_size = 15\n",
    "        plt.figure(figsize=(figure_size, figure_size))\n",
    "        plt.subplot(1, 2, 1), plt.imshow(img)\n",
    "        plt.title('Original Image'), plt.xticks([]), plt.yticks([])\n",
    "        plt.subplot(1, 2, 2), plt.imshow(res)\n",
    "        plt.title(f'Segmented Image when K = {n_color}'), plt.xticks([]), plt.yticks([])\n",
    "        plt.show()"
   ]
  }
 ]
}